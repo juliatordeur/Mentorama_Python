{
  "nbformat": 4,
  "nbformat_minor": 0,
  "metadata": {
    "colab": {
      "provenance": []
    },
    "kernelspec": {
      "name": "python3",
      "display_name": "Python 3"
    },
    "language_info": {
      "name": "python"
    }
  },
  "cells": [
    {
      "cell_type": "code",
      "execution_count": null,
      "metadata": {
        "id": "hurokMqRy6-o",
        "outputId": "7d6156fb-fe21-4254-dca8-73603cfada5c",
        "colab": {
          "base_uri": "https://localhost:8080/"
        }
      },
      "outputs": [
        {
          "output_type": "stream",
          "name": "stdout",
          "text": [
            "Olá\n"
          ]
        }
      ],
      "source": [
        "print(\"Olá\")"
      ]
    },
    {
      "cell_type": "code",
      "source": [
        "a = 'Carro'"
      ],
      "metadata": {
        "id": "M4vVzzYT1zf-"
      },
      "execution_count": null,
      "outputs": []
    },
    {
      "cell_type": "code",
      "source": [
        "b = 'Bicicleta'"
      ],
      "metadata": {
        "id": "y3uGdaP2rQVH"
      },
      "execution_count": null,
      "outputs": []
    },
    {
      "cell_type": "code",
      "source": [
        "print(a)\n",
        "print(b)\n"
      ],
      "metadata": {
        "colab": {
          "base_uri": "https://localhost:8080/"
        },
        "id": "O4IRxWlorShC",
        "outputId": "845355ef-b4e8-4639-cda6-2c62a06a83e5"
      },
      "execution_count": null,
      "outputs": [
        {
          "output_type": "stream",
          "name": "stdout",
          "text": [
            "Carro\n",
            "Bicicleta\n"
          ]
        }
      ]
    },
    {
      "cell_type": "code",
      "source": [
        "a == b"
      ],
      "metadata": {
        "colab": {
          "base_uri": "https://localhost:8080/"
        },
        "id": "943V05G1rwaN",
        "outputId": "bb219c0e-e901-4ef3-be8c-bb215c0871b3"
      },
      "execution_count": null,
      "outputs": [
        {
          "output_type": "execute_result",
          "data": {
            "text/plain": [
              "False"
            ]
          },
          "metadata": {},
          "execution_count": 14
        }
      ]
    },
    {
      "cell_type": "code",
      "source": [
        "b = 10\n",
        "c = 7"
      ],
      "metadata": {
        "id": "k8YeIubTsBto"
      },
      "execution_count": null,
      "outputs": []
    },
    {
      "cell_type": "code",
      "source": [
        "print(b)\n",
        "print(c)\n",
        "print(b%c)"
      ],
      "metadata": {
        "colab": {
          "base_uri": "https://localhost:8080/"
        },
        "id": "erU7MaQPsGVO",
        "outputId": "035e4a69-ab96-491d-cfc6-c487934d5e4f"
      },
      "execution_count": null,
      "outputs": [
        {
          "output_type": "stream",
          "name": "stdout",
          "text": [
            "10\n",
            "7\n",
            "3\n"
          ]
        }
      ]
    },
    {
      "cell_type": "code",
      "source": [
        "lista = ['2','3','28','43','28','90','100','100','120']"
      ],
      "metadata": {
        "id": "Nqf7GskVswuY"
      },
      "execution_count": null,
      "outputs": []
    },
    {
      "cell_type": "code",
      "source": [
        "len(lista)"
      ],
      "metadata": {
        "colab": {
          "base_uri": "https://localhost:8080/"
        },
        "id": "NbOh6q07s_mO",
        "outputId": "8e072113-2ff5-49ec-aaba-a8d988056581"
      },
      "execution_count": null,
      "outputs": [
        {
          "output_type": "execute_result",
          "data": {
            "text/plain": [
              "9"
            ]
          },
          "metadata": {},
          "execution_count": 22
        }
      ]
    },
    {
      "cell_type": "code",
      "source": [
        "set(lista)"
      ],
      "metadata": {
        "colab": {
          "base_uri": "https://localhost:8080/"
        },
        "id": "2EQOCBuhtZGh",
        "outputId": "63a8dbf2-7424-4288-fea5-634c3020954a"
      },
      "execution_count": null,
      "outputs": [
        {
          "output_type": "execute_result",
          "data": {
            "text/plain": [
              "{'100', '120', '2', '28', '3', '43', '90'}"
            ]
          },
          "metadata": {},
          "execution_count": 23
        }
      ]
    },
    {
      "cell_type": "code",
      "source": [
        "len(set(lista))"
      ],
      "metadata": {
        "colab": {
          "base_uri": "https://localhost:8080/"
        },
        "id": "KQ02wvmBt_Wh",
        "outputId": "1f27d38d-11cc-4882-e230-ea4b18ad9a67"
      },
      "execution_count": null,
      "outputs": [
        {
          "output_type": "execute_result",
          "data": {
            "text/plain": [
              "7"
            ]
          },
          "metadata": {},
          "execution_count": 24
        }
      ]
    },
    {
      "cell_type": "code",
      "source": [
        "dicionario = {'Joao': ['ovos', 'leite', 'cereal'], 'Luisa': ['amaciante', 'papel'], 'Pedro': ['manteiga','sal']}\n",
        "print(dicionario)"
      ],
      "metadata": {
        "colab": {
          "base_uri": "https://localhost:8080/"
        },
        "id": "xX_zqxcBxc3N",
        "outputId": "5541ab7e-2020-4126-ea00-e52bf5c6c1b7"
      },
      "execution_count": null,
      "outputs": [
        {
          "output_type": "stream",
          "name": "stdout",
          "text": [
            "{'Joao': ['ovos', 'leite', 'cereal'], 'Luisa': ['amaciante', 'papel'], 'Pedro': ['manteiga', 'sal']}\n"
          ]
        }
      ]
    },
    {
      "cell_type": "code",
      "source": [],
      "metadata": {
        "id": "qxfH9oPqyOme"
      },
      "execution_count": null,
      "outputs": []
    }
  ]
}