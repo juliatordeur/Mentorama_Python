{
  "nbformat": 4,
  "nbformat_minor": 0,
  "metadata": {
    "colab": {
      "provenance": []
    },
    "kernelspec": {
      "name": "python3",
      "display_name": "Python 3"
    },
    "language_info": {
      "name": "python"
    }
  },
  "cells": [
    {
      "cell_type": "markdown",
      "source": [
        "Exercício 1\n",
        "\n",
        "> Construa uma função que recebe uma lista de tamanho 5 como parâmetro. Essa função deve percorrer cada elemento dessa lista e verificar se o elemento é par ou não. Se ele for par, salve ele em uma nova lista que deve ser retornada com todos os valores pares encontrados.\n",
        "\n",
        "\n",
        "\n"
      ],
      "metadata": {
        "id": "09tstQyOkVI-"
      }
    },
    {
      "cell_type": "code",
      "execution_count": null,
      "metadata": {
        "id": "3CoFoZ1Q23nU"
      },
      "outputs": [],
      "source": [
        "lista = [1,2,3,4,5]"
      ]
    },
    {
      "cell_type": "code",
      "source": [
        "def identifica_pares(lista):\n",
        "  pares = []\n",
        "  for i in lista:\n",
        "    if i % 2 == 0:\n",
        "      pares.append(i)\n",
        "    else: \n",
        "        continue\n",
        "  return pares"
      ],
      "metadata": {
        "id": "PB8tU3h0iWSS"
      },
      "execution_count": null,
      "outputs": []
    },
    {
      "cell_type": "code",
      "source": [
        "pares_lista = identifica_pares([1,2,3,4,5,6,7,8,9,10])\n",
        "pares_lista"
      ],
      "metadata": {
        "colab": {
          "base_uri": "https://localhost:8080/"
        },
        "id": "DBSK6FkMlf0g",
        "outputId": "cfe79733-ed91-495c-9a2e-e8f0d7f3b710"
      },
      "execution_count": null,
      "outputs": [
        {
          "output_type": "execute_result",
          "data": {
            "text/plain": [
              "[2, 4, 6, 8, 10]"
            ]
          },
          "metadata": {},
          "execution_count": 81
        }
      ]
    },
    {
      "cell_type": "markdown",
      "source": [
        "Exercício 2\n",
        "\n",
        "> Escreva um código que chama o módulo random. Dentro deste módulo utilize a função que gera números aleatórios inteiros para criar uma função customizada que pede para o usuário digitar quantidade de sorteios que ele quer e roda sorteando essa quantidade de números. Alguns usuários podem não entender que o input é um número e digitar por exemplo \"três\", o que geraria um erro no código. Então escreva essa função de maneira a tratar esse erro, enviando uma mensagem que ajude o usuário a resolver esse problema.  \n",
        "\n"
      ],
      "metadata": {
        "id": "PGhjOVw6kb7h"
      }
    },
    {
      "cell_type": "code",
      "source": [
        "from random import randint\n",
        "from random import sample\n",
        "import builtins"
      ],
      "metadata": {
        "id": "krSplqEwbKo9"
      },
      "execution_count": null,
      "outputs": []
    },
    {
      "cell_type": "code",
      "source": [
        "try:\n",
        "  sorteio = int(input(\"Qual é a quantidade de sorteios?\"))\n",
        "  range=builtins.range\n",
        "  for _ in range(sorteio):\n",
        "    valor = randint(1,100)\n",
        "    print(valor)\n",
        "\n",
        "except ValueError:\n",
        "    print(\"Você só pode pôr números aqui\")"
      ],
      "metadata": {
        "colab": {
          "base_uri": "https://localhost:8080/"
        },
        "id": "g1DqgkTDbOhj",
        "outputId": "b2e9167f-9e4b-4e6d-acfa-11af24888b5d"
      },
      "execution_count": null,
      "outputs": [
        {
          "output_type": "stream",
          "name": "stdout",
          "text": [
            "Qual é a quantidade de sorteios?quatro\n",
            "Você só pode pôr números aqui\n"
          ]
        }
      ]
    },
    {
      "cell_type": "markdown",
      "source": [
        "Exercício 3\n",
        "\n",
        "> Crie uma classe cliente. Esse cliente deve possuir 2 atributos: nome e saldo e dois métodos: depositar e sacar. Usando a classe, crie um cliente, utilize os métodos criados para depositar 100 reais na conta do cliente, que deve começar com saldo 0 e depois do depósito apresentar saldo 100. Na sequência, faça um saque de 20 reais. Fique atento: o seu código deve impedir que o usuário saque mais do que ele tem em saldo!\n",
        "\n"
      ],
      "metadata": {
        "id": "FpaxAzD-rjw9"
      }
    },
    {
      "cell_type": "code",
      "source": [
        "class Cliente:\n",
        "  def __init__(self,nome,saldo):\n",
        "    self.nome = nome\n",
        "    self.saldo = saldo\n",
        "\n",
        "  def depositar(self,valor):\n",
        "    self.saldo = int(self.saldo) + valor\n",
        "    print(\"Seu saldo é de:\", self.saldo)\n",
        "\n",
        "  def sacar(self,valor):\n",
        "    if self.saldo >= valor:\n",
        "      self.saldo = self.saldo - valor\n",
        "      print(\"Seu saldo é de:\", self.saldo)\n",
        "    else:\n",
        "        print(\"Saldo insuficiente\", self.saldo)"
      ],
      "metadata": {
        "id": "e8nEUDzzrlpL"
      },
      "execution_count": null,
      "outputs": []
    },
    {
      "cell_type": "code",
      "source": [
        "cliente1 = Cliente(\"Ronaldo\", 0)\n",
        "print(cliente1.nome)\n",
        "print(cliente1.saldo)"
      ],
      "metadata": {
        "colab": {
          "base_uri": "https://localhost:8080/"
        },
        "id": "F_xSu6lWEJHw",
        "outputId": "ab25e3c6-ad53-4abb-fcb3-bf07a5dd542e"
      },
      "execution_count": null,
      "outputs": [
        {
          "output_type": "stream",
          "name": "stdout",
          "text": [
            "Ronaldo\n",
            "0\n"
          ]
        }
      ]
    },
    {
      "cell_type": "code",
      "source": [
        "cliente1.depositar(100)"
      ],
      "metadata": {
        "colab": {
          "base_uri": "https://localhost:8080/"
        },
        "id": "nuPkQNJtFIS1",
        "outputId": "54b162bd-34c0-4a63-c5df-6568522640d4"
      },
      "execution_count": null,
      "outputs": [
        {
          "output_type": "stream",
          "name": "stdout",
          "text": [
            "Seu saldo é de: 100\n"
          ]
        }
      ]
    },
    {
      "cell_type": "code",
      "source": [
        "cliente1.sacar(20)"
      ],
      "metadata": {
        "colab": {
          "base_uri": "https://localhost:8080/"
        },
        "id": "aud9SVmnLwwX",
        "outputId": "175c8a8a-23ff-456f-91b2-dae859fb1c98"
      },
      "execution_count": null,
      "outputs": [
        {
          "output_type": "stream",
          "name": "stdout",
          "text": [
            "Seu saldo é de: 80\n"
          ]
        }
      ]
    }
  ]
}